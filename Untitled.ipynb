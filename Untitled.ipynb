{
 "cells": [
  {
   "cell_type": "code",
   "execution_count": 8,
   "metadata": {},
   "outputs": [
    {
     "name": "stdout",
     "output_type": "stream",
     "text": [
      "player visited blue\n",
      "player visited green\n",
      "8\n"
     ]
    }
   ],
   "source": [
    "my_list=['blue','green','red','black']\n",
    "my_dict={1:'a',2:['blue','green'],3:'c'}\n",
    "count=0\n",
    "for col in my_list:\n",
    "    for dcol in my_dict[2]:\n",
    "        count+=1\n",
    "        if col == dcol:\n",
    "            print(\"player visited\",dcol)\n",
    "print(count)\n",
    "\n"
   ]
  },
  {
   "cell_type": "code",
   "execution_count": 18,
   "metadata": {},
   "outputs": [],
   "source": [
    "def peelthem(mylist):\n",
    "    \"\"\"this function takes a list of strings\n",
    "    removes the first and last letter from each string in the list\n",
    "    and returns a list of those modified strings\"\"\"\n",
    "    newlist=[]\n",
    "    for word in mylist:\n",
    "        newlist.append(word[1:-1])\n",
    "    return newlist\n",
    "            "
   ]
  },
  {
   "cell_type": "code",
   "execution_count": 19,
   "metadata": {},
   "outputs": [],
   "source": [
    "potatoes=['pontiac','rushe','iplle','mrpotai']\n",
    "final=peelthem(potatoes)"
   ]
  },
  {
   "cell_type": "code",
   "execution_count": 20,
   "metadata": {},
   "outputs": [
    {
     "name": "stdout",
     "output_type": "stream",
     "text": [
      "['ontia', 'ush', 'pll', 'rpota']\n"
     ]
    }
   ],
   "source": [
    "print(final)"
   ]
  },
  {
   "cell_type": "code",
   "execution_count": null,
   "metadata": {},
   "outputs": [],
   "source": []
  },
  {
   "cell_type": "code",
   "execution_count": null,
   "metadata": {},
   "outputs": [],
   "source": []
  }
 ],
 "metadata": {
  "kernelspec": {
   "display_name": "Python 3",
   "language": "python",
   "name": "python3"
  },
  "language_info": {
   "codemirror_mode": {
    "name": "ipython",
    "version": 3
   },
   "file_extension": ".py",
   "mimetype": "text/x-python",
   "name": "python",
   "nbconvert_exporter": "python",
   "pygments_lexer": "ipython3",
   "version": "3.6.5"
  }
 },
 "nbformat": 4,
 "nbformat_minor": 2
}
